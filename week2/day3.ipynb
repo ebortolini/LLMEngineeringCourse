{
 "cells": [
  {
   "cell_type": "code",
   "execution_count": null,
   "id": "bc7df663",
   "metadata": {},
   "outputs": [],
   "source": [
    "import os\n",
    "from dotenv import load_dotenv\n",
    "from openai import OpenAI\n",
    "import gradio as gr"
   ]
  },
  {
   "cell_type": "code",
   "execution_count": null,
   "id": "906b95a0",
   "metadata": {},
   "outputs": [],
   "source": [
    "load_dotenv(override=True)\n",
    "openai_api_key = os.getenv('OPENAI_API_KEY')\n",
    "\n",
    "if openai_api_key:\n",
    "    print(\"OpenAI API Key exists\")\n",
    "else:\n",
    "    print(\"OpenAI API Key not set\")"
   ]
  },
  {
   "cell_type": "code",
   "execution_count": null,
   "id": "aa8721ea",
   "metadata": {},
   "outputs": [],
   "source": [
    "openai = OpenAI()\n",
    "MODEL= 'gpt-4.1-mini'"
   ]
  },
  {
   "cell_type": "code",
   "execution_count": null,
   "id": "e2aae9af",
   "metadata": {},
   "outputs": [],
   "source": [
    "system_message = \"You are a helpful assistant\""
   ]
  },
  {
   "cell_type": "code",
   "execution_count": null,
   "id": "0af036db",
   "metadata": {},
   "outputs": [],
   "source": [
    "def chat(message, history):\n",
    "    return \"bananas\""
   ]
  },
  {
   "cell_type": "code",
   "execution_count": null,
   "id": "56bde467",
   "metadata": {},
   "outputs": [],
   "source": [
    "gr.ChatInterface(fn=chat, type=\"messages\").launch()"
   ]
  },
  {
   "cell_type": "code",
   "execution_count": null,
   "id": "3f28c4f7",
   "metadata": {},
   "outputs": [],
   "source": [
    "def chat(message, history):\n",
    "    return f\"You said {message} and the history is {history} but I still say bananas\""
   ]
  },
  {
   "cell_type": "code",
   "execution_count": null,
   "id": "9930b7ed",
   "metadata": {},
   "outputs": [],
   "source": [
    "gr.ChatInterface(fn=chat, type=\"messages\").launch()\n"
   ]
  }
 ],
 "metadata": {
  "kernelspec": {
   "display_name": "llms",
   "language": "python",
   "name": "python3"
  },
  "language_info": {
   "codemirror_mode": {
    "name": "ipython",
    "version": 3
   },
   "file_extension": ".py",
   "mimetype": "text/x-python",
   "name": "python",
   "nbconvert_exporter": "python",
   "pygments_lexer": "ipython3",
   "version": "3.12.10"
  }
 },
 "nbformat": 4,
 "nbformat_minor": 5
}
